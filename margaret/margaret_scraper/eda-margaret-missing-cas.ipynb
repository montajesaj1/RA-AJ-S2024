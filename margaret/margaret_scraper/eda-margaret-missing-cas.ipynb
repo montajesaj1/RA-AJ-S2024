{
 "cells": [
  {
   "cell_type": "code",
   "execution_count": 1,
   "id": "3b97fb2e-df77-4b48-99d8-6f837449bda3",
   "metadata": {},
   "outputs": [],
   "source": [
    "import pandas as pd\n",
    "missing = pd.read_csv('margaret_missing_cas.csv')\n",
    "task_1_pub = missing[missing['pubchem'].notna()]\n",
    "task_1_missing = missing[missing['pubchem'].isna()]"
   ]
  },
  {
   "cell_type": "code",
   "execution_count": 3,
   "id": "1c0e7241-260f-47db-90b9-4e597df4b5e9",
   "metadata": {},
   "outputs": [],
   "source": [
    "task_1_missing.to_csv('task_1_no_pub.csv', index=False)\n",
    "task_1_pub.to_csv('task_1_with_pub.csv', index=False)"
   ]
  },
  {
   "cell_type": "code",
   "execution_count": null,
   "id": "e48c26c2-9562-4062-a07f-6defe839d82b",
   "metadata": {},
   "outputs": [],
   "source": []
  }
 ],
 "metadata": {
  "kernelspec": {
   "display_name": "Python 3 (ipykernel)",
   "language": "python",
   "name": "python3"
  },
  "language_info": {
   "codemirror_mode": {
    "name": "ipython",
    "version": 3
   },
   "file_extension": ".py",
   "mimetype": "text/x-python",
   "name": "python",
   "nbconvert_exporter": "python",
   "pygments_lexer": "ipython3",
   "version": "3.12.4"
  }
 },
 "nbformat": 4,
 "nbformat_minor": 5
}
