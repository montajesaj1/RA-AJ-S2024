{
 "cells": [
  {
   "cell_type": "code",
   "execution_count": 1,
   "id": "f6793b19-0d49-41a5-8b61-d5809145a744",
   "metadata": {},
   "outputs": [],
   "source": [
    "import selenium \n",
    "\n",
    "import csv\n",
    "import re\n",
    "import pandas as pd\n",
    "\n",
    "from selenium import webdriver\n",
    "from selenium.webdriver.common.keys import Keys\n",
    "from selenium.webdriver.common.by import By\n",
    "from selenium.webdriver.chrome.service import Service\n",
    "from webdriver_manager.chrome import ChromeDriverManager\n",
    "from selenium.webdriver.support.wait import WebDriverWait \n",
    "# from selenium.webdriver.support.ui import WebDriverWait\n",
    "from selenium.webdriver.support import expected_conditions as EC\n",
    "from selenium.common.exceptions import NoSuchElementException, TimeoutException\n",
    "from selenium.webdriver.chrome.options import Options\n",
    "\n",
    "import time"
   ]
  },
  {
   "cell_type": "code",
   "execution_count": 2,
   "id": "125ac573-d50b-4298-b7f6-c33db3f625ac",
   "metadata": {},
   "outputs": [],
   "source": [
    "data = pd.read_csv('cas_to_check.csv')\n",
    "links = data['link'].to_list()"
   ]
  },
  {
   "cell_type": "code",
   "execution_count": 3,
   "id": "0af5a6be-49d5-48fb-98ac-bc41b9ce8fa0",
   "metadata": {},
   "outputs": [],
   "source": [
    "def setup_webdriver():\n",
    "    chrome_options = Options()\n",
    "    chrome_options.add_argument(\"--headless\")\n",
    "    service = Service(ChromeDriverManager().install())\n",
    "    driver = webdriver.Chrome(service=service, options=chrome_options)\n",
    "    return driver\n",
    "\n",
    "def get_cas_numbers(link, driver):\n",
    "    cas_numbers = {\"CAS\": \"N/A\", \"Deprecated CAS\": \"N/A\"}  # Default in case of failure\n",
    "\n",
    "    try:\n",
    "        driver.get(link)\n",
    "        # Wait and locate the CAS number section\n",
    "        try:\n",
    "            cas_elements = WebDriverWait(driver, 60).until(EC.visibility_of_all_elements_located((By.CSS_SELECTOR, 'section#CAS div.break-words')))\n",
    "            cas_numbers[\"CAS\"] = ', '.join([el.text.strip() for el in cas_elements])\n",
    "        except (NoSuchElementException, TimeoutException):\n",
    "            cas_numbers[\"CAS\"] = \"N/A\"  # CAS number not found\n",
    "\n",
    "        # Wait and locate the Deprecated CAS number section, if present\n",
    "        try:\n",
    "            deprecated_cas_elements = driver.find_elements(By.CSS_SELECTOR, 'section#Deprecated-CAS div.break-words')\n",
    "            # deprecated_cas_elements = WebDriverWait(driver, 3).until(EC.visibility_of_all_elements_located((By.CSS_SELECTOR, 'section#Deprecated-CAS div.break-words')))\n",
    "            cas_numbers[\"Deprecated CAS\"] = ', '.join([el.text.strip() for el in deprecated_cas_elements])\n",
    "            \n",
    "        except (NoSuchElementException, TimeoutException):\n",
    "            cas_numbers[\"Deprecated CAS\"] = \"N/A\"  # Deprecated CAS number not found\n",
    "            \n",
    "    except Exception as e:\n",
    "        print(f\"Error retrieving CAS numbers for {link}: {e}\")\n",
    "\n",
    "    return cas_numbers\n",
    "\n",
    "def get_cas_numbers_concurrently(links):\n",
    "    cas_matches = []\n",
    "    driver = setup_webdriver()  # Initialize the WebDriver once\n",
    "\n",
    "    try:\n",
    "        for link in links:\n",
    "            cas_matches.append(get_cas_numbers(link, driver))\n",
    "\n",
    "    finally:\n",
    "        driver.quit()  # Make sure to quit the WebDriver\n",
    "\n",
    "    return cas_matches      "
   ]
  },
  {
   "cell_type": "code",
   "execution_count": 4,
   "id": "528fa406-9179-4992-a79b-3cf45539c4dc",
   "metadata": {},
   "outputs": [],
   "source": [
    "cas_numbers = get_cas_numbers_concurrently(links)"
   ]
  },
  {
   "cell_type": "code",
   "execution_count": 6,
   "id": "66ad0e5b-9852-44d4-8b88-1161579811f8",
   "metadata": {},
   "outputs": [],
   "source": [
    "df_cas = pd.DataFrame(cas_numbers, columns=['CAS', 'Deprecated CAS'])\n",
    "df_cas.to_csv('60_second_wait_2.csv', index=False)"
   ]
  },
  {
   "cell_type": "code",
   "execution_count": null,
   "id": "5e056f05-c25e-48f5-84df-85d9df103e2a",
   "metadata": {},
   "outputs": [],
   "source": []
  }
 ],
 "metadata": {
  "kernelspec": {
   "display_name": "Python 3 (ipykernel)",
   "language": "python",
   "name": "python3"
  },
  "language_info": {
   "codemirror_mode": {
    "name": "ipython",
    "version": 3
   },
   "file_extension": ".py",
   "mimetype": "text/x-python",
   "name": "python",
   "nbconvert_exporter": "python",
   "pygments_lexer": "ipython3",
   "version": "3.12.4"
  }
 },
 "nbformat": 4,
 "nbformat_minor": 5
}
